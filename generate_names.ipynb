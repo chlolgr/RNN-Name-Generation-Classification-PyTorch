{
 "cells": [
  {
   "cell_type": "code",
   "execution_count": null,
   "metadata": {},
   "outputs": [],
   "source": [
    "author__ = \"Chloé Lagrue\"\n",
    "__email__ = \"lagruech@gmail.com\"\n",
    "__status__ = \"Last Name Generator -- RNN\""
   ]
  },
  {
   "cell_type": "markdown",
   "metadata": {},
   "source": [
    "# Name Generation Usign an RNN\n",
    "\n",
    "## Data pre-processing "
   ]
  },
  {
   "cell_type": "code",
   "execution_count": 1,
   "metadata": {},
   "outputs": [
    {
     "name": "stdout",
     "output_type": "stream",
     "text": [
      "There are 18 languages in our dataset:\n"
     ]
    },
    {
     "data": {
      "image/png": "[encoded data removed]",
      "text/plain": [
       "<matplotlib.figure.Figure at 0x7faf95f0c240>"
      ]
     },
     "metadata": {
      "needs_background": "light"
     },
     "output_type": "display_data"
    }
   ],
   "source": [
    "import glob\n",
    "import re\n",
    "import unicodedata\n",
    "import string\n",
    "\n",
    "all_letters = string.ascii_letters + \" .,;'-\"\n",
    "n_letters = len(all_letters)+1\n",
    "\n",
    "# OPEN THE DATA INTO A DICTIONARY\n",
    "paths = glob.glob(\"data/names/*.txt\")\n",
    "data = dict()\n",
    "for path in paths:\n",
    "    language = re.search(\"data/names/(\\w+)\\.txt\",path).group(1)\n",
    "    data[language] = list()\n",
    "    f = open(path,'r')\n",
    "    for name in f.readlines():\n",
    "        name = name.replace('\\n','')\n",
    "        name = unicodedata.normalize('NFD',name).encode('ascii','replace')\n",
    "        name = ''.join([c for c in str(name)[2:-1] if c in all_letters])\n",
    "        data[language].append(name)\n",
    "    f.close()\n",
    "    \n",
    "    \n",
    "#=========== PRINTING ZONE ===========#\n",
    "import matplotlib.pyplot as plt\n",
    "%matplotlib inline\n",
    "\n",
    "print(\"There are\",len(data),\"languages in our dataset:\")\n",
    "\n",
    "x,y = list(),list()\n",
    "\n",
    "for language in data:\n",
    "    x.append(language)\n",
    "    y.append(len(data[language]))\n",
    "\n",
    "plt.title(\"Number of Samples per Language\")\n",
    "plt.xlabel(\"language\")\n",
    "plt.ylabel(\"number of samples\")\n",
    "plt.bar(x,y)\n",
    "plt.xticks(rotation='vertical')\n",
    "plt.show()"
   ]
  },
  {
   "cell_type": "markdown",
   "metadata": {},
   "source": [
    "So we can see that Arabic, English, and Russian have a lot more samples than other languages, so we might expect more efficiency in those languages.\n",
    "\n",
    "Here are the functions we're going to use to pre-process our data to fit into the RNN:"
   ]
  },
  {
   "cell_type": "code",
   "execution_count": 2,
   "metadata": {},
   "outputs": [
    {
     "name": "stdout",
     "output_type": "stream",
     "text": [
      "List of languages:\n",
      "Spanish, German, Italian, Polish, Dutch, Russian, Greek, Arabic, Japanese, Irish, Chinese, Vietnamese, Korean, Portuguese, French, Czech, Scottish, English\n",
      "\n",
      "Representation of English as one-hot tensor:\n",
      "[0. 0. 0. 0. 0. 0. 0. 0. 0. 0. 0. 0. 0. 0. 0. 0. 0. 1.]\n",
      "Representation of German as one-hot tensor:\n",
      "[0. 1. 0. 0. 0. 0. 0. 0. 0. 0. 0. 0. 0. 0. 0. 0. 0. 0.]\n",
      "\n",
      "Random samples from the dataset:\n",
      "\tLanguage: Italian \tName: Caito\n",
      "\tLanguage: Dutch \tName: Herten\n",
      "\tLanguage: Scottish \tName: Mckay\n",
      "\tLanguage: French \tName: Gage\n",
      "\tLanguage: Czech \tName: Kosko\n",
      "\tLanguage: Scottish \tName: Mckenzie\n",
      "\tLanguage: Italian \tName: Salomon\n",
      "\tLanguage: Greek \tName: Hadjiyianakies\n",
      "\tLanguage: Polish \tName: Pakulski\n",
      "\tLanguage: Irish \tName: Riain\n"
     ]
    }
   ],
   "source": [
    "import torch\n",
    "import string\n",
    "import numpy as np\n",
    "\n",
    "\n",
    "# EMBEDDINGS\n",
    "\n",
    "def languageTensor(language):\n",
    "    languages = np.array(list(data.keys()))\n",
    "    tensor = torch.zeros(1,languages.shape[0])\n",
    "    tensor[0][np.where(languages==language)[0][0]] = 1\n",
    "    return tensor\n",
    "\n",
    "def inputTensor(name):\n",
    "    tensor = torch.zeros(len(name),1,n_letters)\n",
    "    for ni in range(len(name)):\n",
    "        letter = name[ni]\n",
    "        tensor[ni][0][all_letters.find(letter)] = 1\n",
    "    return tensor\n",
    "\n",
    "def targetTensor(name):\n",
    "    letter_indexes = [all_letters.find(name[ni]) for ni in range(1, len(name))]\n",
    "    letter_indexes.append(n_letters - 1) \n",
    "    return torch.LongTensor(letter_indexes)\n",
    "\n",
    "\n",
    "# GET RANDOM SAMPLE\n",
    "\n",
    "def get_random_sample():\n",
    "    language = np.random.choice(list(data.keys()))\n",
    "    name = np.random.choice(data[language])\n",
    "    return language,name\n",
    "\n",
    "def convert_sample(language,name):\n",
    "    language = languageTensor(language)\n",
    "    in_put = inputTensor(name)\n",
    "    target = targetTensor(name)\n",
    "    return language,in_put,target\n",
    "\n",
    "def get_data_point():\n",
    "    language,name = get_random_sample()\n",
    "    return convert_sample(language,name)\n",
    "\n",
    "\n",
    "#=========== PRINTING ZONE ===========#\n",
    "print(\"List of languages:\")\n",
    "print(', '.join(list(data.keys())))\n",
    "print(\"\\nRepresentation of English as one-hot tensor:\")\n",
    "print(np.array(languageTensor('English')[0]))\n",
    "print(\"Representation of German as one-hot tensor:\")\n",
    "print(np.array(languageTensor('German')[0]))\n",
    "print(\"\\nRandom samples from the dataset:\")\n",
    "for _ in range(10):\n",
    "    language,name = get_random_sample()\n",
    "    print(\"\\tLanguage:\",language,\"\\tName:\",name)"
   ]
  },
  {
   "cell_type": "markdown",
   "metadata": {},
   "source": [
    "## RNN class"
   ]
  },
  {
   "cell_type": "code",
   "execution_count": 3,
   "metadata": {},
   "outputs": [],
   "source": [
    "import torch.nn as nn\n",
    "\n",
    "\n",
    "class RNN(nn.Module):\n",
    "\n",
    "\n",
    "    def __init__(self,n_languages,input_size,hidden_size,output_size):\n",
    "\n",
    "        super(RNN,self).__init__()\n",
    "        self.input_size = input_size\n",
    "        self.hidden_size = hidden_size\n",
    "        self.output_size = output_size\n",
    "\n",
    "        self.i2h = nn.Linear(n_languages+input_size+hidden_size,hidden_size)\n",
    "        self.i2o = nn.Linear(n_languages+input_size+hidden_size,output_size)\n",
    "        self.o2o = nn.Linear(hidden_size+output_size,output_size)\n",
    "        self.softmax = nn.LogSoftmax(dim=1)\n",
    "        self.dropout = nn.Dropout(0.1)\n",
    "\n",
    "\n",
    "    def forward(self,language,in_put,hidden):\n",
    "        input_combined = torch.cat((language,in_put,hidden),1)\n",
    "        hidden = self.i2h(input_combined)\n",
    "        output = self.i2o(input_combined)\n",
    "        output_combined = torch.cat((hidden,output),1)\n",
    "        output = self.o2o(output_combined)\n",
    "        output = self.dropout(output)\n",
    "        output = self.softmax(output)\n",
    "        return output,hidden\n",
    "\n",
    "\n",
    "    def initHidden(self):\n",
    "        return torch.zeros(1,self.hidden_size)"
   ]
  },
  {
   "cell_type": "markdown",
   "metadata": {},
   "source": [
    "## Training the RNN"
   ]
  },
  {
   "cell_type": "code",
   "execution_count": 4,
   "metadata": {},
   "outputs": [
    {
     "name": "stdout",
     "output_type": "stream",
     "text": [
      "0 / 200000 \t\tloss: 4.0538581848144535\n",
      "10000 / 200000 \t\tloss: 3.9836977178400215\n",
      "20000 / 200000 \t\tloss: 2.3264753341674806\n",
      "30000 / 200000 \t\tloss: 2.4008614676339284\n",
      "40000 / 200000 \t\tloss: 3.0182806650797525\n",
      "50000 / 200000 \t\tloss: 2.4181360517229353\n",
      "60000 / 200000 \t\tloss: 1.7572110493977864\n",
      "70000 / 200000 \t\tloss: 2.2118093317205254\n",
      "80000 / 200000 \t\tloss: 2.1021739112006292\n",
      "90000 / 200000 \t\tloss: 2.6051697731018066\n",
      "100000 / 200000 \t\tloss: 2.293194135030111\n",
      "110000 / 200000 \t\tloss: 1.438603401184082\n",
      "120000 / 200000 \t\tloss: 2.828159809112549\n",
      "130000 / 200000 \t\tloss: 2.2869499206542967\n",
      "140000 / 200000 \t\tloss: 1.906400203704834\n",
      "150000 / 200000 \t\tloss: 2.076725482940674\n",
      "160000 / 200000 \t\tloss: 1.6124951498849052\n",
      "170000 / 200000 \t\tloss: 2.637394428253174\n",
      "180000 / 200000 \t\tloss: 2.1790897846221924\n",
      "190000 / 200000 \t\tloss: 2.340540313720703\n"
     ]
    },
    {
     "data": {
      "image/png": "[encoded data removed]",
      "text/plain": [
       "<matplotlib.figure.Figure at 0x7fafbc5d7518>"
      ]
     },
     "metadata": {
      "needs_background": "light"
     },
     "output_type": "display_data"
    }
   ],
   "source": [
    "def train(language_tensor,input_tensor,target_tensor):\n",
    "    target_tensor = target_tensor.unsqueeze_(-1)\n",
    "    hidden = rnn.initHidden()\n",
    "    rnn.zero_grad()\n",
    "    loss = 0\n",
    "    for i in range(input_tensor.size(0)):\n",
    "        output,hidden = rnn(language_tensor,input_tensor[i],hidden)\n",
    "        l = loss_model(output,target_tensor[i])\n",
    "        loss += l\n",
    "    loss.backward()\n",
    "    for p in rnn.parameters(): p.data.add_(-lr,p.grad.data)\n",
    "    return output, loss.item()/input_tensor.size(0)\n",
    "\n",
    "\n",
    "loss_model = nn.NLLLoss()\n",
    "lr = .0005\n",
    "rnn = RNN(len(data),n_letters,128,n_letters)\n",
    "n_iters = 200000\n",
    "print_every = 10000\n",
    "plot_every = 500\n",
    "all_losses = []\n",
    "total_loss = 0.\n",
    "\n",
    "for i in range(n_iters):\n",
    "    output,loss = train(*get_data_point())\n",
    "    total_loss += loss\n",
    "\n",
    "    if i%print_every==0: print(i,'/',n_iters,'\\t\\tloss:',loss)\n",
    "    if i%plot_every==0 and i!=0: \n",
    "        all_losses.append(total_loss/plot_every)\n",
    "        total_loss = 0.\n",
    "        \n",
    "plt.title('Loss Along Iterations')\n",
    "plt.xlabel('iteration')\n",
    "plt.ylabel('loss')\n",
    "plt.plot(np.arange(len(all_losses))*plot_every,all_losses);"
   ]
  },
  {
   "cell_type": "code",
   "execution_count": 5,
   "metadata": {},
   "outputs": [
    {
     "name": "stdout",
     "output_type": "stream",
     "text": [
      "Russian names: Rovakov, Uakovanov, Shaveveven, Irishiv, Allandov\n",
      "Italian names: Iangali, Tongali, Albangili, Lacon, Yarichi\n",
      "German names: Graser, Eren, Rousher, Macher, Arthur, Naher, Youner\n",
      "Chinese names: Cau, Han, Iun, Nia, Ana\n",
      "Japanese names: Janako, Angauda, Paka, Nakama\n"
     ]
    }
   ],
   "source": [
    "max_name_length = 20\n",
    "\n",
    "def generate_name(language,first_letter):\n",
    "    with torch.no_grad():\n",
    "        language_tensor = languageTensor(language)\n",
    "        input_tensor = inputTensor(first_letter)\n",
    "        output_name = first_letter\n",
    "        for i in range(max_name_length):\n",
    "            hidden = rnn.initHidden()\n",
    "            for j in range(input_tensor.size(0)): \n",
    "                output,hidden = rnn(language_tensor,input_tensor[j],hidden)\n",
    "            topv,topi = output.topk(1)\n",
    "            topi = topi[0][0]\n",
    "            if topi==n_letters-1: break\n",
    "            else:\n",
    "                letter = all_letters[topi]\n",
    "                output_name+=letter\n",
    "            input_tensor = inputTensor(output_name)\n",
    "        return output_name\n",
    "    \n",
    "def generate_names(language,first_letters):\n",
    "    names = [generate_name(language,first_letter) for first_letter in first_letters]\n",
    "    print(language,'names:',', '.join(names))\n",
    "        \n",
    "\n",
    "generate_names('Russian','RUSIA')\n",
    "generate_names('Italian','ITALY')\n",
    "generate_names('German','GERMANY')\n",
    "generate_names('Chinese','CHINA')\n",
    "generate_names('Japanese','JAPN')"
   ]
  },
  {
   "cell_type": "markdown",
   "metadata": {},
   "source": [
    "## Generate without a First Letter"
   ]
  },
  {
   "cell_type": "code",
   "execution_count": 6,
   "metadata": {},
   "outputs": [],
   "source": [
    "def updatedInputTensor(name):\n",
    "    name = ';'+name\n",
    "    tensor = torch.zeros(len(name),1,n_letters)\n",
    "    for ni in range(len(name)):\n",
    "        letter = name[ni]\n",
    "        tensor[ni][0][all_letters.find(letter)] = 1\n",
    "    return tensor\n",
    "\n",
    "def updatedTargetTensor(name):\n",
    "    letter_indexes = [all_letters.find(name[ni]) for ni in range(len(name))]\n",
    "    letter_indexes.append(n_letters - 1) \n",
    "    return torch.LongTensor(letter_indexes)\n",
    "\n",
    "def updated_convert_sample(language,name):\n",
    "    language = languageTensor(language)\n",
    "    in_put = updatedInputTensor(name)\n",
    "    target = updatedTargetTensor(name)\n",
    "    return language,in_put,target\n",
    "\n",
    "def updated_get_data_point():\n",
    "    language,name = get_random_sample()\n",
    "    return updated_convert_sample(language,name)"
   ]
  },
  {
   "cell_type": "code",
   "execution_count": 7,
   "metadata": {},
   "outputs": [
    {
     "name": "stdout",
     "output_type": "stream",
     "text": [
      "0 / 200000 \t\tloss: 4.113009452819824\n",
      "10000 / 200000 \t\tloss: 2.888819013323103\n",
      "20000 / 200000 \t\tloss: 2.328965902328491\n",
      "30000 / 200000 \t\tloss: 2.285438749525282\n",
      "40000 / 200000 \t\tloss: 1.9699331919352214\n",
      "50000 / 200000 \t\tloss: 3.562310218811035\n",
      "60000 / 200000 \t\tloss: 2.6855459213256836\n",
      "70000 / 200000 \t\tloss: 2.5310241154261996\n",
      "80000 / 200000 \t\tloss: 3.141601138644748\n",
      "90000 / 200000 \t\tloss: 2.2005836963653564\n",
      "100000 / 200000 \t\tloss: 1.8155810492379325\n",
      "110000 / 200000 \t\tloss: 2.8775386810302734\n",
      "120000 / 200000 \t\tloss: 2.1791691098894392\n",
      "130000 / 200000 \t\tloss: 2.8895460764567056\n",
      "140000 / 200000 \t\tloss: 2.175044059753418\n",
      "150000 / 200000 \t\tloss: 1.3410539627075195\n",
      "160000 / 200000 \t\tloss: 2.3554340998331704\n",
      "170000 / 200000 \t\tloss: 2.3207074945623223\n",
      "180000 / 200000 \t\tloss: 3.0633978843688965\n",
      "190000 / 200000 \t\tloss: 1.9872312545776367\n"
     ]
    },
    {
     "data": {
      "image/png": "[encoded data removed]",
      "text/plain": [
       "<matplotlib.figure.Figure at 0x7faf54be3eb8>"
      ]
     },
     "metadata": {
      "needs_background": "light"
     },
     "output_type": "display_data"
    }
   ],
   "source": [
    "def updated_train(language_tensor,input_tensor,target_tensor):\n",
    "    target_tensor = target_tensor.unsqueeze_(-1)\n",
    "    hidden = updated_rnn.initHidden()\n",
    "    updated_rnn.zero_grad()\n",
    "    loss = 0\n",
    "    for i in range(input_tensor.size(0)):\n",
    "        output,hidden = updated_rnn(language_tensor,input_tensor[i],hidden)\n",
    "        l = loss_model(output,target_tensor[i])\n",
    "        loss += l\n",
    "    loss.backward()\n",
    "    for p in updated_rnn.parameters(): p.data.add_(-lr,p.grad.data)\n",
    "    return output, loss.item()/input_tensor.size(0)\n",
    "\n",
    "loss_model = nn.NLLLoss()\n",
    "lr = .0005\n",
    "updated_rnn = RNN(len(data),n_letters,128,n_letters)\n",
    "n_iters = 200000\n",
    "print_every = 10000\n",
    "plot_every = 500\n",
    "all_losses = []\n",
    "total_loss = 0.\n",
    "\n",
    "for i in range(n_iters):\n",
    "    output,loss = updated_train(*updated_get_data_point())\n",
    "    total_loss += loss\n",
    "\n",
    "    if i%print_every==0: print(i,'/',n_iters,'\\t\\tloss:',loss)\n",
    "    if i%plot_every==0 and i!=0: \n",
    "        all_losses.append(total_loss/plot_every)\n",
    "        total_loss = 0.\n",
    "        \n",
    "plt.title('Loss Along Iterations')\n",
    "plt.xlabel('iteration')\n",
    "plt.ylabel('loss')\n",
    "plt.plot(np.arange(len(all_losses))*plot_every,all_losses);"
   ]
  },
  {
   "cell_type": "code",
   "execution_count": 10,
   "metadata": {},
   "outputs": [
    {
     "name": "stdout",
     "output_type": "stream",
     "text": [
      "Arabic: Samara\n",
      "Chinese: Sha\n",
      "Czech: Koura\n",
      "Dutch: Santer\n",
      "English: Marden\n",
      "French: Bares\n",
      "German: Scher\n",
      "Greek: Kostilos\n",
      "Irish: Machala\n",
      "Italian: Alaci\n",
      "Japanese: Kasama\n",
      "Korean: Son\n",
      "Polish: Sowako\n",
      "Portuguese: Mareu\n",
      "Russian: Allay\n",
      "Scottish: Schill\n",
      "Spanish: Alaras\n",
      "Vietnamese: Thang\n"
     ]
    }
   ],
   "source": [
    "max_name_length = 20\n",
    "\n",
    "def generate_name(language):\n",
    "    with torch.no_grad():\n",
    "        language_tensor = languageTensor(language)\n",
    "        input_tensor = inputTensor(';')\n",
    "        output_name = ';'\n",
    "        for i in range(max_name_length):\n",
    "            hidden = updated_rnn.initHidden()\n",
    "            for j in range(input_tensor.size(0)): \n",
    "                output,hidden = updated_rnn(language_tensor,input_tensor[j],hidden)\n",
    "            topv,topi = output.topk(1)\n",
    "            topi = topi[0][0]\n",
    "            if topi==n_letters-1: break\n",
    "            else:\n",
    "                letter = all_letters[topi]\n",
    "                output_name+=letter\n",
    "            input_tensor = inputTensor(output_name)\n",
    "        return output_name[1:]\n",
    "    \n",
    "for language in np.sort(list(data.keys())):\n",
    "    print(language+':',generate_name(language))"
   ]
  },
  {
   "cell_type": "markdown",
   "metadata": {},
   "source": [
    "## Adding Variety to Generations\n",
    "\n",
    "One problem with our generative model is it always generates the same names for a fixed first letter. Ideally, that wouldn't be a thing. \n",
    "We're going to add randomness to our hidden vector in our RNN to add a sense of randomness and so variety to our generated names. \n",
    "\n",
    "### New RNN Class\n",
    "\n",
    "To change our hidden vector, we'll need to define a new RNN class. "
   ]
  },
  {
   "cell_type": "code",
   "execution_count": 24,
   "metadata": {},
   "outputs": [],
   "source": [
    "import torch.nn as nn\n",
    "\n",
    "\n",
    "class random_RNN(nn.Module):\n",
    "\n",
    "\n",
    "    def __init__(self,n_languages,input_size,hidden_size,output_size):\n",
    "\n",
    "        super(random_RNN,self).__init__()\n",
    "        self.input_size = input_size\n",
    "        self.hidden_size = hidden_size\n",
    "        self.output_size = output_size\n",
    "\n",
    "        self.i2h = nn.Linear(n_languages+input_size+hidden_size,hidden_size)\n",
    "        self.i2o = nn.Linear(n_languages+input_size+hidden_size,output_size)\n",
    "        self.o2o = nn.Linear(hidden_size+output_size,output_size)\n",
    "        self.softmax = nn.LogSoftmax(dim=1)\n",
    "        self.dropout = nn.Dropout(0.1)\n",
    "\n",
    "\n",
    "    def forward(self,language,in_put,hidden):\n",
    "        input_combined = torch.cat((language,in_put,hidden),1)\n",
    "        hidden = self.i2h(input_combined)\n",
    "        output = self.i2o(input_combined)\n",
    "        output_combined = torch.cat((hidden,output),1)\n",
    "        output = self.o2o(output_combined)\n",
    "        output = self.dropout(output)\n",
    "        output = self.softmax(output)\n",
    "        return output,hidden\n",
    "\n",
    "\n",
    "    def initHidden(self):\n",
    "        return torch.from_numpy(np.random.randn(1,self.hidden_size)).type('torch.FloatTensor')"
   ]
  },
  {
   "cell_type": "code",
   "execution_count": 30,
   "metadata": {},
   "outputs": [
    {
     "name": "stdout",
     "output_type": "stream",
     "text": [
      "0 / 200000 \t\tloss: 4.028178351266043\n",
      "10000 / 200000 \t\tloss: 2.5103530883789062\n",
      "20000 / 200000 \t\tloss: 3.072185198465983\n",
      "30000 / 200000 \t\tloss: 2.7409440994262697\n",
      "40000 / 200000 \t\tloss: 2.0408871514456615\n",
      "50000 / 200000 \t\tloss: 2.1144484111240933\n",
      "60000 / 200000 \t\tloss: 2.1947814396449496\n",
      "70000 / 200000 \t\tloss: 2.8398404802594865\n",
      "80000 / 200000 \t\tloss: 2.336313941261985\n",
      "90000 / 200000 \t\tloss: 2.542799862948331\n",
      "100000 / 200000 \t\tloss: 2.7782405853271483\n",
      "110000 / 200000 \t\tloss: 2.2454198201497397\n",
      "120000 / 200000 \t\tloss: 2.517642550998264\n",
      "130000 / 200000 \t\tloss: 2.480553150177002\n",
      "140000 / 200000 \t\tloss: 2.489656925201416\n",
      "150000 / 200000 \t\tloss: 2.497265625\n",
      "160000 / 200000 \t\tloss: 2.278669902256557\n",
      "170000 / 200000 \t\tloss: 2.3756316502889\n",
      "180000 / 200000 \t\tloss: 2.603526496887207\n",
      "190000 / 200000 \t\tloss: 2.9145046869913735\n"
     ]
    },
    {
     "data": {
      "image/png": "[encoded data removed]",
      "text/plain": [
       "<matplotlib.figure.Figure at 0x7faf54be8400>"
      ]
     },
     "metadata": {
      "needs_background": "light"
     },
     "output_type": "display_data"
    }
   ],
   "source": [
    "def random_train(language_tensor,input_tensor,target_tensor):\n",
    "    target_tensor = target_tensor.unsqueeze_(-1)\n",
    "    hidden = random_rnn.initHidden()\n",
    "    random_rnn.zero_grad()\n",
    "    loss = 0\n",
    "    for i in range(input_tensor.size(0)):\n",
    "        output,hidden = random_rnn(language_tensor,input_tensor[i],hidden)\n",
    "        l = loss_model(output,target_tensor[i])\n",
    "        loss += l\n",
    "    loss.backward()\n",
    "    for p in random_rnn.parameters(): p.data.add_(-lr,p.grad.data)\n",
    "    return output, loss.item()/input_tensor.size(0)\n",
    "\n",
    "loss_model = nn.NLLLoss()\n",
    "lr = .0005\n",
    "random_rnn = random_RNN(len(data),n_letters,128,n_letters)\n",
    "n_iters = 200000\n",
    "print_every = 10000\n",
    "plot_every = 500\n",
    "all_losses = []\n",
    "total_loss = 0.\n",
    "\n",
    "for i in range(n_iters):\n",
    "    output,loss = random_train(*updated_get_data_point())\n",
    "    total_loss += loss\n",
    "\n",
    "    if i%print_every==0: print(i,'/',n_iters,'\\t\\tloss:',loss)\n",
    "    if i%plot_every==0 and i!=0: \n",
    "        all_losses.append(total_loss/plot_every)\n",
    "        total_loss = 0.\n",
    "        \n",
    "plt.title('Loss Along Iterations')\n",
    "plt.xlabel('iteration')\n",
    "plt.ylabel('loss')\n",
    "plt.plot(np.arange(len(all_losses))*plot_every,all_losses);"
   ]
  },
  {
   "cell_type": "code",
   "execution_count": 39,
   "metadata": {},
   "outputs": [
    {
     "name": "stdout",
     "output_type": "stream",
     "text": [
      "Arabic: Sanam, Sanda, Shara\n",
      "Chinese: Shin, Shin, Chan\n",
      "Czech: Molle, Schant, Schall\n",
      "Dutch: Scheren, Keren, Schelen\n",
      "English: Banten, Malle, Manger\n",
      "French: Berre, Lever, Lanter\n",
      "German: Scher, Scher, Berren\n",
      "Greek: Kontas, Kallas, Pallos\n",
      "Irish: Dangen, O'Mallan, O'Den\n",
      "Italian: Arton, Alberi, Allon\n",
      "Japanese: Scaka, Kamakam, Kamaka\n",
      "Korean: Sno, Sho, San\n",
      "Polish: Sckoll, Sckilow, Sandak\n",
      "Portuguese: baresto, Santero, Mares\n",
      "Russian: Banden, Devellov, Bantov\n",
      "Scottish: Mcher, Machel, Mander\n",
      "Spanish: Maran, Salla, Alla\n",
      "Vietnamese: Than, Than, Than\n"
     ]
    }
   ],
   "source": [
    "max_name_length = 20\n",
    "\n",
    "def generate_name(language):\n",
    "    with torch.no_grad():\n",
    "        language_tensor = languageTensor(language)\n",
    "        input_tensor = inputTensor(';')\n",
    "        output_name = ';'\n",
    "        for i in range(max_name_length):\n",
    "            hidden = random_rnn.initHidden()\n",
    "            for j in range(input_tensor.size(0)): \n",
    "                output,hidden = random_rnn(language_tensor,input_tensor[j],hidden)\n",
    "            topv,topi = output.topk(1)\n",
    "            topi = topi[0][0]\n",
    "            if topi==n_letters-1: break\n",
    "            else:\n",
    "                letter = all_letters[topi]\n",
    "                output_name+=letter\n",
    "            input_tensor = inputTensor(output_name)\n",
    "        return output_name[1:]\n",
    "    \n",
    "for language in np.sort(list(data.keys())):\n",
    "    names = ', '.join([generate_name(language) for _ in range(3)])\n",
    "    print(language+': '+names)"
   ]
  }
 ],
 "metadata": {
  "kernelspec": {
   "display_name": "Python 3",
   "language": "python",
   "name": "python3"
  },
  "language_info": {
   "codemirror_mode": {
    "name": "ipython",
    "version": 3
   },
   "file_extension": ".py",
   "mimetype": "text/x-python",
   "name": "python",
   "nbconvert_exporter": "python",
   "pygments_lexer": "ipython3",
   "version": "3.5.2"
  }
 },
 "nbformat": 4,
 "nbformat_minor": 1
}

{
 "metadata": {
  "name": "",
  "signature": "sha256:67f6e300048866a24abde3acb2a7133c67a6cda29ed30be5537be23e99dd73b1"
 },
 "nbformat": 3,
 "nbformat_minor": 0,
 "worksheets": [
  {
   "cells": [
    {
     "cell_type": "code",
     "collapsed": false,
     "input": [
      "author__ = \"Chlo\u00e9 Lagrue\"\n",
      "__email__ = \"lagruech@gmail.com\"\n",
      "__status__ = \"Last Name Generator -- RNN\""
     ],
     "language": "python",
     "metadata": {},
     "outputs": []
    },
    {
     "cell_type": "markdown",
     "metadata": {},
     "source": [
      "# Name Generation Usign an RNN\n",
      "\n",
      "## Data pre-processing "
     ]
    },
    {
     "cell_type": "code",
     "collapsed": false,
     "input": [
      "import glob\n",
      "import re\n",
      "import unicodedata\n",
      "import string\n",
      "\n",
      "all_letters = string.ascii_letters + \" .,;'-\"\n",
      "n_letters = len(all_letters)+1\n",
      "\n",
      "# OPEN THE DATA INTO A DICTIONARY\n",
      "paths = glob.glob(\"data/names/*.txt\")\n",
      "data = dict()\n",
      "for path in paths:\n",
      "    language = re.search(\"data/names/(\\w+)\\.txt\",path).group(1)\n",
      "    data[language] = list()\n",
      "    f = open(path,'r')\n",
      "    for name in f.readlines():\n",
      "        name = name.replace('\\n','')\n",
      "        name = unicodedata.normalize('NFD',name).encode('ascii','replace')\n",
      "        name = ''.join([c for c in str(name)[2:-1] if c in all_letters])\n",
      "        data[language].append(name)\n",
      "    f.close()\n",
      "    \n",
      "    \n",
      "#=========== PRINTING ZONE ===========#\n",
      "import matplotlib.pyplot as plt\n",
      "%matplotlib inline\n",
      "\n",
      "print(\"There are\",len(data),\"languages in our dataset:\")\n",
      "\n",
      "x,y = list(),list()\n",
      "\n",
      "for language in data:\n",
      "    x.append(language)\n",
      "    y.append(len(data[language]))\n",
      "\n",
      "plt.title(\"Number of Samples per Language\")\n",
      "plt.xlabel(\"language\")\n",
      "plt.ylabel(\"number of samples\")\n",
      "plt.bar(x,y)\n",
      "plt.xticks(rotation='vertical')\n",
      "plt.show()"
     ],
     "language": "python",
     "metadata": {},
     "outputs": [
      {
       "output_type": "stream",
       "stream": "stdout",
       "text": [
        "There are 18 languages in our dataset:\n"
       ]
      },
      {
       "metadata": {},
       "output_type": "display_data",
       "png": "[encoded data removed]",
       "text": [
        "<matplotlib.figure.Figure at 0x7f4cc4041400>"
       ]
      }
     ],
     "prompt_number": 106
    },
    {
     "cell_type": "markdown",
     "metadata": {},
     "source": [
      "So we can see that Arabic, English, and Russian have a lot more samples than other languages, so we might expect more efficiency in those languages.\n",
      "\n",
      "Here are the functions we're going to use to pre-process our data to fit into the RNN:"
     ]
    },
    {
     "cell_type": "code",
     "collapsed": false,
     "input": [
      "import torch\n",
      "import string\n",
      "import numpy as np\n",
      "\n",
      "\n",
      "# EMBEDDINGS\n",
      "\n",
      "def languageTensor(language):\n",
      "    languages = np.array(list(data.keys()))\n",
      "    tensor = torch.zeros(1,languages.shape[0])\n",
      "    tensor[0][np.where(languages==language)[0][0]] = 1\n",
      "    return tensor\n",
      "\n",
      "def inputTensor(name):\n",
      "    tensor = torch.zeros(len(name),1,n_letters)\n",
      "    for ni in range(len(name)):\n",
      "        letter = name[ni]\n",
      "        tensor[ni][0][all_letters.find(letter)] = 1\n",
      "    return tensor\n",
      "\n",
      "def targetTensor(name):\n",
      "    letter_indexes = [all_letters.find(name[ni]) for ni in range(1, len(name))]\n",
      "    letter_indexes.append(n_letters - 1) \n",
      "    return torch.LongTensor(letter_indexes)\n",
      "\n",
      "\n",
      "# GET RANDOM SAMPLE\n",
      "\n",
      "def get_random_sample():\n",
      "    language = np.random.choice(list(data.keys()))\n",
      "    name = np.random.choice(data[language])\n",
      "    return language,name\n",
      "\n",
      "def convert_sample(language,name):\n",
      "    language = languageTensor(language)\n",
      "    in_put = inputTensor(name)\n",
      "    target = targetTensor(name)\n",
      "    return language,in_put,target\n",
      "\n",
      "def get_data_point():\n",
      "    language,name = get_random_sample()\n",
      "    return convert_sample(language,name)\n",
      "\n",
      "\n",
      "#=========== PRINTING ZONE ===========#\n",
      "print(\"List of languages:\")\n",
      "print(', '.join(list(data.keys())))\n",
      "print(\"\\nRepresentation of English as one-hot tensor:\")\n",
      "print(np.array(languageTensor('English')[0]))\n",
      "print(\"Representation of German as one-hot tensor:\")\n",
      "print(np.array(languageTensor('German')[0]))\n",
      "print(\"\\nRandom samples from the dataset:\")\n",
      "for _ in range(10):\n",
      "    language,name = get_random_sample()\n",
      "    print(\"\\tLanguage:\",language,\"\\tName:\",name)"
     ],
     "language": "python",
     "metadata": {},
     "outputs": [
      {
       "output_type": "stream",
       "stream": "stdout",
       "text": [
        "List of languages:\n",
        "Czech, French, Irish, Arabic, Vietnamese, Japanese, Korean, Greek, Portuguese, Scottish, Dutch, Polish, German, Spanish, Russian, English, Italian, Chinese\n",
        "\n",
        "Representation of English as one-hot tensor:\n",
        "[0. 0. 0. 0. 0. 0. 0. 0. 0. 0. 0. 0. 0. 0. 0. 1. 0. 0.]\n",
        "Representation of German as one-hot tensor:\n",
        "[0. 0. 0. 0. 0. 0. 0. 0. 0. 0. 0. 0. 1. 0. 0. 0. 0. 0.]\n",
        "\n",
        "Random samples from the dataset:\n",
        "\tLanguage: Italian \tName: Accardo\n",
        "\tLanguage: Italian \tName: Todaro\n",
        "\tLanguage: Scottish \tName: Maclean\n",
        "\tLanguage: Italian \tName: Mantovani\n",
        "\tLanguage: German \tName: Dressler\n",
        "\tLanguage: Scottish \tName: Taylor\n",
        "\tLanguage: Japanese \tName: Tomioka\n",
        "\tLanguage: Korean \tName: Noh\n",
        "\tLanguage: Japanese \tName: Moto\n",
        "\tLanguage: Russian \tName: Harahinov\n"
       ]
      }
     ],
     "prompt_number": 4
    },
    {
     "cell_type": "markdown",
     "metadata": {},
     "source": [
      "## RNN class"
     ]
    },
    {
     "cell_type": "code",
     "collapsed": false,
     "input": [
      "import torch.nn as nn\n",
      "\n",
      "\n",
      "class RNN(nn.Module):\n",
      "\n",
      "\n",
      "    def __init__(self,n_languages,input_size,hidden_size,output_size):\n",
      "\n",
      "        super(RNN,self).__init__()\n",
      "        self.input_size = input_size\n",
      "        self.hidden_size = hidden_size\n",
      "        self.output_size = output_size\n",
      "\n",
      "        self.i2h = nn.Linear(n_languages+input_size+hidden_size,hidden_size)\n",
      "        self.i2o = nn.Linear(n_languages+input_size+hidden_size,output_size)\n",
      "        self.o2o = nn.Linear(hidden_size+output_size,output_size)\n",
      "        self.softmax = nn.LogSoftmax(dim=1)\n",
      "        self.dropout = nn.Dropout(0.1)\n",
      "\n",
      "\n",
      "    def forward(self,language,in_put,hidden):\n",
      "        input_combined = torch.cat((language,in_put,hidden),1)\n",
      "        hidden = self.i2h(input_combined)\n",
      "        output = self.i2o(input_combined)\n",
      "        output_combined = torch.cat((hidden,output),1)\n",
      "        output = self.o2o(output_combined)\n",
      "        output = self.dropout(output)\n",
      "        output = self.softmax(output)\n",
      "        return output,hidden\n",
      "\n",
      "\n",
      "    def initHidden(self):\n",
      "        return torch.zeros(1,self.hidden_size)"
     ],
     "language": "python",
     "metadata": {},
     "outputs": [],
     "prompt_number": 5
    },
    {
     "cell_type": "markdown",
     "metadata": {},
     "source": [
      "## Training the RNN"
     ]
    },
    {
     "cell_type": "code",
     "collapsed": false,
     "input": [
      "def train(language_tensor,input_tensor,target_tensor):\n",
      "    target_tensor = target_tensor.unsqueeze_(-1)\n",
      "    hidden = rnn.initHidden()\n",
      "    rnn.zero_grad()\n",
      "    loss = 0\n",
      "    for i in range(input_tensor.size(0)):\n",
      "        output,hidden = rnn(language_tensor,input_tensor[i],hidden)\n",
      "        l = loss_model(output,target_tensor[i])\n",
      "        loss += l\n",
      "    loss.backward()\n",
      "    for p in rnn.parameters(): p.data.add_(-lr,p.grad.data)\n",
      "    return output, loss.item()/input_tensor.size(0)\n",
      "\n",
      "\n",
      "loss_model = nn.NLLLoss()\n",
      "lr = .0005\n",
      "rnn = RNN(len(data),n_letters,128,n_letters)\n",
      "n_iters = 200000\n",
      "print_every = 10000\n",
      "plot_every = 500\n",
      "all_losses = []\n",
      "total_loss = 0.\n",
      "\n",
      "for i in range(n_iters):\n",
      "    output,loss = train(*get_data_point())\n",
      "    total_loss += loss\n",
      "\n",
      "    if i%print_every==0: print(i,'/',n_iters,'\\t\\tloss:',loss)\n",
      "    if i%plot_every==0 and i!=0: \n",
      "        all_losses.append(total_loss/plot_every)\n",
      "        total_loss = 0.\n",
      "        \n",
      "plt.title('Loss Along Iterations')\n",
      "plt.xlabel('iteration')\n",
      "plt.ylabel('loss')\n",
      "plt.plot(np.arange(len(all_losses))*plot_every,all_losses);"
     ],
     "language": "python",
     "metadata": {},
     "outputs": [
      {
       "output_type": "stream",
       "stream": "stdout",
       "text": [
        "0 / 200000 \t\tloss: 4.08245495387486\n",
        "10000"
       ]
      },
      {
       "output_type": "stream",
       "stream": "stdout",
       "text": [
        " / 200000 \t\tloss: 2.6866226196289062\n",
        "20000"
       ]
      },
      {
       "output_type": "stream",
       "stream": "stdout",
       "text": [
        " / 200000 \t\tloss: 2.722900629043579\n",
        "30000"
       ]
      },
      {
       "output_type": "stream",
       "stream": "stdout",
       "text": [
        " / 200000 \t\tloss: 2.4114139556884764\n",
        "40000"
       ]
      },
      {
       "output_type": "stream",
       "stream": "stdout",
       "text": [
        " / 200000 \t\tloss: 2.2125167846679688\n",
        "50000"
       ]
      },
      {
       "output_type": "stream",
       "stream": "stdout",
       "text": [
        " / 200000 \t\tloss: 3.1399617195129395\n",
        "60000"
       ]
      },
      {
       "output_type": "stream",
       "stream": "stdout",
       "text": [
        " / 200000 \t\tloss: 2.138498306274414\n",
        "70000"
       ]
      },
      {
       "output_type": "stream",
       "stream": "stdout",
       "text": [
        " / 200000 \t\tloss: 1.9755017416817802\n",
        "80000"
       ]
      },
      {
       "output_type": "stream",
       "stream": "stdout",
       "text": [
        " / 200000 \t\tloss: 2.7668638229370117\n",
        "90000"
       ]
      },
      {
       "output_type": "stream",
       "stream": "stdout",
       "text": [
        " / 200000 \t\tloss: 2.7321527269151478\n",
        "100000"
       ]
      },
      {
       "output_type": "stream",
       "stream": "stdout",
       "text": [
        " / 200000 \t\tloss: 3.772385915120443\n",
        "110000"
       ]
      },
      {
       "output_type": "stream",
       "stream": "stdout",
       "text": [
        " / 200000 \t\tloss: 2.777700185775757\n",
        "120000"
       ]
      },
      {
       "output_type": "stream",
       "stream": "stdout",
       "text": [
        " / 200000 \t\tloss: 1.5265408515930177\n",
        "130000"
       ]
      },
      {
       "output_type": "stream",
       "stream": "stdout",
       "text": [
        " / 200000 \t\tloss: 1.6007774670918782\n",
        "140000"
       ]
      },
      {
       "output_type": "stream",
       "stream": "stdout",
       "text": [
        " / 200000 \t\tloss: 1.800806999206543\n",
        "150000"
       ]
      },
      {
       "output_type": "stream",
       "stream": "stdout",
       "text": [
        " / 200000 \t\tloss: 1.4386190176010132\n",
        "160000"
       ]
      },
      {
       "output_type": "stream",
       "stream": "stdout",
       "text": [
        " / 200000 \t\tloss: 1.6513099670410156\n",
        "170000"
       ]
      },
      {
       "output_type": "stream",
       "stream": "stdout",
       "text": [
        " / 200000 \t\tloss: 1.7330034971237183\n",
        "180000"
       ]
      },
      {
       "output_type": "stream",
       "stream": "stdout",
       "text": [
        " / 200000 \t\tloss: 1.2471833229064941\n",
        "190000"
       ]
      },
      {
       "output_type": "stream",
       "stream": "stdout",
       "text": [
        " / 200000 \t\tloss: 1.5513909657796223\n"
       ]
      },
      {
       "metadata": {},
       "output_type": "display_data",
       "png": "[encoded data removed]",
       "text": [
        "<matplotlib.figure.Figure at 0x7f4cc40db898>"
       ]
      }
     ],
     "prompt_number": 7
    },
    {
     "cell_type": "code",
     "collapsed": false,
     "input": [
      "max_name_length = 20\n",
      "\n",
      "def generate_name(language,first_letter):\n",
      "    with torch.no_grad():\n",
      "        language_tensor = languageTensor(language)\n",
      "        input_tensor = inputTensor(first_letter)\n",
      "        output_name = first_letter\n",
      "        for i in range(max_name_length):\n",
      "            hidden = rnn.initHidden()\n",
      "            for j in range(input_tensor.size(0)): \n",
      "                output,hidden = rnn(language_tensor,input_tensor[j],hidden)\n",
      "            topv,topi = output.topk(1)\n",
      "            topi = topi[0][0]\n",
      "            if topi==n_letters-1: break\n",
      "            else:\n",
      "                letter = all_letters[topi]\n",
      "                output_name+=letter\n",
      "            input_tensor = inputTensor(output_name)\n",
      "        return output_name\n",
      "    \n",
      "def generate_names(language,first_letters):\n",
      "    names = [generate_name(language,first_letter) for first_letter in first_letters]\n",
      "    print(language,'names:',', '.join(names))\n",
      "        \n",
      "\n",
      "generate_names('Russian','RUSIA')\n",
      "generate_names('Italian','ITALY')\n",
      "generate_names('German','GERMANY')\n",
      "generate_names('Chinese','CHINA')\n",
      "generate_names('Japanese','JAPN')"
     ],
     "language": "python",
     "metadata": {},
     "outputs": [
      {
       "output_type": "stream",
       "stream": "stdout",
       "text": [
        "Russian names: Roskilov, Uakovak, Shithin, Irakov, Allanov\n",
        "Italian names: Irando, Tongali, Alamin, Langali, Yangali\n",
        "German names: Grenger, Eres, Rosheller, Marten, Alem, Neren, Yanger\n",
        "Chinese names: Chan, Han, Iha, Nan, Ana\n",
        "Japanese names: Jangai, Astamai, Pakama, Nakama\n"
       ]
      }
     ],
     "prompt_number": 138
    },
    {
     "cell_type": "markdown",
     "metadata": {},
     "source": [
      "##Generate without a First Letter"
     ]
    },
    {
     "cell_type": "code",
     "collapsed": false,
     "input": [
      "def updatedInputTensor(name):\n",
      "    name = ';'+name\n",
      "    tensor = torch.zeros(len(name),1,n_letters)\n",
      "    for ni in range(len(name)):\n",
      "        letter = name[ni]\n",
      "        tensor[ni][0][all_letters.find(letter)] = 1\n",
      "    return tensor\n",
      "\n",
      "def updatedTargetTensor(name):\n",
      "    letter_indexes = [all_letters.find(name[ni]) for ni in range(len(name))]\n",
      "    letter_indexes.append(n_letters - 1) \n",
      "    return torch.LongTensor(letter_indexes)\n",
      "\n",
      "def updated_convert_sample(language,name):\n",
      "    language = languageTensor(language)\n",
      "    in_put = updatedInputTensor(name)\n",
      "    target = updatedTargetTensor(name)\n",
      "    return language,in_put,target\n",
      "\n",
      "def updated_get_data_point():\n",
      "    language,name = get_random_sample()\n",
      "    return updated_convert_sample(language,name)"
     ],
     "language": "python",
     "metadata": {},
     "outputs": [],
     "prompt_number": 141
    },
    {
     "cell_type": "code",
     "collapsed": false,
     "input": [
      "def updated_train(language_tensor,input_tensor,target_tensor):\n",
      "    target_tensor = target_tensor.unsqueeze_(-1)\n",
      "    hidden = updated_rnn.initHidden()\n",
      "    updated_rnn.zero_grad()\n",
      "    loss = 0\n",
      "    for i in range(input_tensor.size(0)):\n",
      "        output,hidden = updated_rnn(language_tensor,input_tensor[i],hidden)\n",
      "        l = loss_model(output,target_tensor[i])\n",
      "        loss += l\n",
      "    loss.backward()\n",
      "    for p in updated_rnn.parameters(): p.data.add_(-lr,p.grad.data)\n",
      "    return output, loss.item()/input_tensor.size(0)\n",
      "\n",
      "loss_model = nn.NLLLoss()\n",
      "lr = .0005\n",
      "updated_rnn = RNN(len(data),n_letters,128,n_letters)\n",
      "n_iters = 200000\n",
      "print_every = 10000\n",
      "plot_every = 500\n",
      "all_losses = []\n",
      "total_loss = 0.\n",
      "\n",
      "for i in range(n_iters):\n",
      "    output,loss = updated_train(*updated_get_data_point())\n",
      "    total_loss += loss\n",
      "\n",
      "    if i%print_every==0: print(i,'/',n_iters,'\\t\\tloss:',loss)\n",
      "    if i%plot_every==0 and i!=0: \n",
      "        all_losses.append(total_loss/plot_every)\n",
      "        total_loss = 0.\n",
      "        \n",
      "plt.title('Loss Along Iterations')\n",
      "plt.xlabel('iteration')\n",
      "plt.ylabel('loss')\n",
      "plt.plot(np.arange(len(all_losses))*plot_every,all_losses);"
     ],
     "language": "python",
     "metadata": {},
     "outputs": [
      {
       "output_type": "stream",
       "stream": "stdout",
       "text": [
        "0 / 200000 \t\tloss: 4.117494106292725\n",
        "10000"
       ]
      },
      {
       "output_type": "stream",
       "stream": "stdout",
       "text": [
        " / 200000 \t\tloss: 3.0509510040283203\n",
        "20000"
       ]
      },
      {
       "output_type": "stream",
       "stream": "stdout",
       "text": [
        " / 200000 \t\tloss: 3.077366828918457\n",
        "30000"
       ]
      },
      {
       "output_type": "stream",
       "stream": "stdout",
       "text": [
        " / 200000 \t\tloss: 2.794411023457845\n",
        "40000"
       ]
      },
      {
       "output_type": "stream",
       "stream": "stdout",
       "text": [
        " / 200000 \t\tloss: 2.4348171779087613\n",
        "50000"
       ]
      },
      {
       "output_type": "stream",
       "stream": "stdout",
       "text": [
        " / 200000 \t\tloss: 2.3933515548706055\n",
        "60000"
       ]
      },
      {
       "output_type": "stream",
       "stream": "stdout",
       "text": [
        " / 200000 \t\tloss: 2.173907688685826\n",
        "70000"
       ]
      },
      {
       "output_type": "stream",
       "stream": "stdout",
       "text": [
        " / 200000 \t\tloss: 1.154458999633789\n",
        "80000"
       ]
      },
      {
       "output_type": "stream",
       "stream": "stdout",
       "text": [
        " / 200000 \t\tloss: 2.2511217329237194\n",
        "90000"
       ]
      },
      {
       "output_type": "stream",
       "stream": "stdout",
       "text": [
        " / 200000 \t\tloss: 2.0006415843963623\n",
        "100000"
       ]
      },
      {
       "output_type": "stream",
       "stream": "stdout",
       "text": [
        " / 200000 \t\tloss: 3.343580790928432\n",
        "110000"
       ]
      },
      {
       "output_type": "stream",
       "stream": "stdout",
       "text": [
        " / 200000 \t\tloss: 3.2618424551827565\n",
        "120000"
       ]
      },
      {
       "output_type": "stream",
       "stream": "stdout",
       "text": [
        " / 200000 \t\tloss: 2.0478768348693848\n",
        "130000"
       ]
      },
      {
       "output_type": "stream",
       "stream": "stdout",
       "text": [
        " / 200000 \t\tloss: 1.592824101448059\n",
        "140000"
       ]
      },
      {
       "output_type": "stream",
       "stream": "stdout",
       "text": [
        " / 200000 \t\tloss: 2.086170196533203\n",
        "150000"
       ]
      },
      {
       "output_type": "stream",
       "stream": "stdout",
       "text": [
        " / 200000 \t\tloss: 1.8607704162597656\n",
        "160000"
       ]
      },
      {
       "output_type": "stream",
       "stream": "stdout",
       "text": [
        " / 200000 \t\tloss: 2.818763494491577\n",
        "170000"
       ]
      },
      {
       "output_type": "stream",
       "stream": "stdout",
       "text": [
        " / 200000 \t\tloss: 2.349406878153483\n",
        "180000"
       ]
      },
      {
       "output_type": "stream",
       "stream": "stdout",
       "text": [
        " / 200000 \t\tloss: 2.065990924835205\n",
        "190000"
       ]
      },
      {
       "output_type": "stream",
       "stream": "stdout",
       "text": [
        " / 200000 \t\tloss: 2.7396977742513022\n"
       ]
      },
      {
       "metadata": {},
       "output_type": "display_data",
       "png": "[encoded data removed]",
       "text": [
        "<matplotlib.figure.Figure at 0x7f4cc412d0f0>"
       ]
      }
     ],
     "prompt_number": 156
    },
    {
     "cell_type": "code",
     "collapsed": false,
     "input": [
      "max_name_length = 20\n",
      "\n",
      "def generate_name(language):\n",
      "    with torch.no_grad():\n",
      "        language_tensor = languageTensor(language)\n",
      "        input_tensor = inputTensor(';')\n",
      "        output_name = ';'\n",
      "        for i in range(max_name_length):\n",
      "            hidden = updated_rnn.initHidden()\n",
      "            for j in range(input_tensor.size(0)): \n",
      "                output,hidden = updated_rnn(language_tensor,input_tensor[j],hidden)\n",
      "            topv,topi = output.topk(1)\n",
      "            topi = topi[0][0]\n",
      "            if topi==n_letters-1: break\n",
      "            else:\n",
      "                letter = all_letters[topi]\n",
      "                output_name+=letter\n",
      "            input_tensor = inputTensor(output_name)\n",
      "        return output_name[1:]\n",
      "    \n",
      "for language in np.sort(list(data.keys())):\n",
      "    print(language+':',generate_name(language))"
     ],
     "language": "python",
     "metadata": {},
     "outputs": [
      {
       "output_type": "stream",
       "stream": "stdout",
       "text": [
        "Arabic: Sara\n",
        "Chinese: Sha\n",
        "Czech: Schalak\n",
        "Dutch: Schelen\n",
        "English: Marten\n",
        "French: Parei\n",
        "German: Schuller\n",
        "Greek: Korisos\n",
        "Irish: Machallan\n",
        "Italian: Albari\n",
        "Japanese: Karaka\n",
        "Korean: Sho\n",
        "Polish: Sowaki\n",
        "Portuguese: Marei\n",
        "Russian: Marien\n",
        "Scottish: Marten\n",
        "Spanish:"
       ]
      },
      {
       "output_type": "stream",
       "stream": "stdout",
       "text": [
        " Alara\n",
        "Vietnamese: Tha\n"
       ]
      }
     ],
     "prompt_number": 164
    }
   ],
   "metadata": {}
  }
 ]
}
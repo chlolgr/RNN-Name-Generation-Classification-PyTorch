{
 "metadata": {
  "name": "",
  "signature": "sha256:e72aae571a03fc5163e0b065fd00f65b28596425d9f20c9b8799011afac5ae47"
 },
 "nbformat": 3,
 "nbformat_minor": 0,
 "worksheets": [
  {
   "cells": [
    {
     "cell_type": "code",
     "collapsed": false,
     "input": [
      "author__ = \"Chlo\u00e9 Lagrue\"\n",
      "__email__ = \"lagruech@gmail.com\"\n",
      "__status__ = \"Last Name Classifier -- RNN\""
     ],
     "language": "python",
     "metadata": {},
     "outputs": []
    },
    {
     "cell_type": "markdown",
     "metadata": {},
     "source": [
      "#Name Classification using an RNN\n",
      "\n",
      "##Data Pre-Processing"
     ]
    },
    {
     "cell_type": "code",
     "collapsed": false,
     "input": [
      "import glob\n",
      "import re\n",
      "import unicodedata\n",
      "import string\n",
      "\n",
      "all_letters = string.ascii_letters + \" .,;'-\"\n",
      "n_letters = len(all_letters)+1\n",
      "\n",
      "paths = glob.glob(\"data/names/*.txt\")\n",
      "data = dict()\n",
      "for path in paths:\n",
      "    language = re.search(\"data/names/(\\w+)\\.txt\",path).group(1)\n",
      "    data[language] = list()\n",
      "    f = open(path,'r')\n",
      "    for name in f.readlines():\n",
      "        name = name.replace('\\n','')\n",
      "        name = unicodedata.normalize('NFD',name).encode('ascii','replace')\n",
      "        name = ''.join([c for c in str(name)[2:-1] if c in all_letters])\n",
      "        data[language].append(name)\n",
      "    f.close()\n",
      "    \n",
      "    \n",
      "#=========== PRINTING ZONE ===========#\n",
      "import matplotlib.pyplot as plt\n",
      "%matplotlib inline\n",
      "\n",
      "print(\"There are\",len(data),\"languages in our dataset:\")\n",
      "\n",
      "x,y = list(),list()\n",
      "\n",
      "for language in data:\n",
      "    x.append(language)\n",
      "    y.append(len(data[language]))\n",
      "\n",
      "plt.title(\"Number of Samples per Language\")\n",
      "plt.xlabel(\"language\")\n",
      "plt.ylabel(\"number of samples\")\n",
      "plt.bar(x,y)\n",
      "plt.xticks(rotation='vertical')\n",
      "plt.show()"
     ],
     "language": "python",
     "metadata": {},
     "outputs": [
      {
       "output_type": "stream",
       "stream": "stdout",
       "text": [
        "There are 18 languages in our dataset:\n"
       ]
      },
      {
       "metadata": {},
       "output_type": "display_data",
       "png": "[encoded data removed]",
       "text": [
        "<matplotlib.figure.Figure at 0x7f4cfda5c1d0>"
       ]
      }
     ],
     "prompt_number": 3
    },
    {
     "cell_type": "code",
     "collapsed": false,
     "input": [
      "import torch\n",
      "import string\n",
      "import numpy as np\n",
      "\n",
      "all_letters = string.ascii_letters + \" .,;'-\"\n",
      "n_letters = len(all_letters)+1\n",
      "\n",
      "# EMBEDDINGS\n",
      "language2int = dict(zip(list(data.keys()), range(len(data))))\n",
      "\n",
      "def targetTensor(language):\n",
      "    return torch.tensor([language2int[language]], dtype=torch.long)\n",
      "\n",
      "def inputTensor(name):\n",
      "    tensor = torch.zeros(len(name),1,n_letters)\n",
      "    for ni in range(len(name)):\n",
      "        letter = name[ni]\n",
      "        tensor[ni][0][all_letters.find(letter)] = 1\n",
      "    return tensor\n",
      "\n",
      "\n",
      "# GET RANDOM SAMPLE\n",
      "def get_random_sample():\n",
      "    language = np.random.choice(list(data.keys()))\n",
      "    name = np.random.choice(data[language])\n",
      "    return language,name\n",
      "\n",
      "def convert_sample(language,name):\n",
      "    target = targetTensor(language)\n",
      "    in_put = inputTensor(name)\n",
      "    return in_put,target\n",
      "\n",
      "def get_data_point():\n",
      "    language,name = get_random_sample()\n",
      "    input_tensor,target_tensor = convert_sample(language,name)\n",
      "    return input_tensor,target_tensor\n",
      "\n",
      "\n",
      "#=========== PRINTING ZONE ===========#\n",
      "print(\"List of languages:\")\n",
      "print(', '.join(list(data.keys())))\n",
      "print(\"\\nRepresentation of English as one-hot tensor:\")\n",
      "print(np.array(targetTensor('English')[0]))\n",
      "print(\"Representation of German as one-hot tensor:\")\n",
      "print(np.array(targetTensor('German')[0]))\n",
      "print(\"\\nRandom samples from the dataset:\")\n",
      "for _ in range(10):\n",
      "    language,name = get_random_sample()\n",
      "    print(\"\\tLanguage:\",language,\"\\tName:\",name)"
     ],
     "language": "python",
     "metadata": {},
     "outputs": [
      {
       "output_type": "stream",
       "stream": "stdout",
       "text": [
        "List of languages:\n",
        "Scottish, English, Portuguese, Chinese, Greek, Irish, Vietnamese, Dutch, Spanish, French, Russian, Italian, Korean, Czech, Polish, Arabic, German, Japanese\n",
        "\n",
        "Representation of English as one-hot tensor:\n",
        "1\n",
        "Representation of German as one-hot tensor:\n",
        "16\n",
        "\n",
        "Random samples from the dataset:\n",
        "\tLanguage: Greek \tName: Haritopoulos\n",
        "\tLanguage: Spanish \tName: Rosa\n",
        "\tLanguage: German \tName: Lichtenberg\n",
        "\tLanguage: Polish \tName: Maslanka\n",
        "\tLanguage: Czech \tName: Navratil\n",
        "\tLanguage: Portuguese \tName: Basurto\n",
        "\tLanguage: Portuguese \tName: D'cruze\n",
        "\tLanguage: Dutch \tName: Smeets\n",
        "\tLanguage: Chinese \tName: Won\n",
        "\tLanguage: Chinese \tName: Ying\n"
       ]
      }
     ],
     "prompt_number": 5
    },
    {
     "cell_type": "markdown",
     "metadata": {},
     "source": [
      "##RNN Class"
     ]
    },
    {
     "cell_type": "code",
     "collapsed": false,
     "input": [
      "import torch \n",
      "import torch.nn as nn\n",
      "\n",
      "\n",
      "class RNN(nn.Module):\n",
      "\n",
      "    def __init__(self,input_size,hidden_size,output_size):\n",
      "        super(RNN,self).__init__()\n",
      "        self.hidden_size = hidden_size\n",
      "        self.i2h = nn.Linear(input_size+hidden_size,hidden_size)\n",
      "        self.i2o = nn.Linear(input_size+hidden_size,output_size)\n",
      "        self.softmax = nn.LogSoftmax(dim=1)\n",
      "\n",
      "    def forward(self,input_tensor,hidden_tensor):\n",
      "        combined = torch.cat((input_tensor,hidden_tensor),1)\n",
      "        hidden = self.i2h(combined)\n",
      "        output = self.i2o(combined)\n",
      "        output = self.softmax(output)\n",
      "        return output,hidden\n",
      "\n",
      "    def initHidden(self):\n",
      "        return torch.zeros(1,self.hidden_size)"
     ],
     "language": "python",
     "metadata": {},
     "outputs": [],
     "prompt_number": 6
    },
    {
     "cell_type": "markdown",
     "metadata": {},
     "source": [
      "##Training the RNN"
     ]
    },
    {
     "cell_type": "code",
     "collapsed": false,
     "input": [
      "def train(input_tensor,target_tensor):\n",
      "    hidden = rnn.initHidden()\n",
      "    rnn.zero_grad()\n",
      "    for i in range(input_tensor.size(0)): output,hidden = rnn(input_tensor[i],hidden)\n",
      "    loss = loss_model(output,target_tensor)\n",
      "    loss.backward()\n",
      "    for p in rnn.parameters(): p.data.add_(-lr,p.grad.data)\n",
      "    return output,loss.item()\n",
      "\n",
      "\n",
      "loss_model = nn.NLLLoss()\n",
      "lr = .001\n",
      "rnn = RNN(n_letters,128,len(data))\n",
      "\n",
      "n_iters = 200000\n",
      "print_every = 20000\n",
      "plot_every = 1000\n",
      "all_losses = []\n",
      "total_loss = 0.\n",
      "targets = []\n",
      "target_tensors = []\n",
      "\n",
      "for i in range(n_iters):\n",
      "    language,name = get_random_sample()\n",
      "    targets.append(language)\n",
      "    input_tensor,target_tensor = convert_sample(language,name)\n",
      "    target_tensors.append(target_tensor)\n",
      "    output,loss = train(input_tensor,target_tensor)\n",
      "    total_loss += loss\n",
      "    if i%print_every==0: print(i,'/',n_iters,'\\tloss:',loss)\n",
      "    if i%plot_every==0 and i!=0: \n",
      "        all_losses.append(total_loss/plot_every)\n",
      "        total_loss = 0.\n",
      "\n",
      "plt.title('Loss Along Iterations')\n",
      "plt.xlabel('iteration')\n",
      "plt.ylabel('loss')\n",
      "plt.plot(np.arange(len(all_losses))*plot_every,all_losses);"
     ],
     "language": "python",
     "metadata": {},
     "outputs": [
      {
       "output_type": "stream",
       "stream": "stdout",
       "text": [
        "0 / 200000 \tloss: 2.9522480964660645\n",
        "20000"
       ]
      },
      {
       "output_type": "stream",
       "stream": "stdout",
       "text": [
        " / 200000 \tloss: 2.261606454849243\n",
        "40000"
       ]
      },
      {
       "output_type": "stream",
       "stream": "stdout",
       "text": [
        " / 200000 \tloss: 2.094716787338257\n",
        "60000"
       ]
      },
      {
       "output_type": "stream",
       "stream": "stdout",
       "text": [
        " / 200000 \tloss: 3.1213722229003906\n",
        "80000"
       ]
      },
      {
       "output_type": "stream",
       "stream": "stdout",
       "text": [
        " / 200000 \tloss: 0.5865464210510254\n",
        "100000"
       ]
      },
      {
       "output_type": "stream",
       "stream": "stdout",
       "text": [
        " / 200000 \tloss: 0.6992073059082031\n",
        "120000"
       ]
      },
      {
       "output_type": "stream",
       "stream": "stdout",
       "text": [
        " / 200000 \tloss: 2.1808345317840576\n",
        "140000"
       ]
      },
      {
       "output_type": "stream",
       "stream": "stdout",
       "text": [
        " / 200000 \tloss: 2.9717302322387695\n",
        "160000"
       ]
      },
      {
       "output_type": "stream",
       "stream": "stdout",
       "text": [
        " / 200000 \tloss: 2.75063419342041\n",
        "180000"
       ]
      },
      {
       "output_type": "stream",
       "stream": "stdout",
       "text": [
        " / 200000 \tloss: 2.9040725231170654\n"
       ]
      },
      {
       "metadata": {},
       "output_type": "display_data",
       "png": "[encoded data removed]",
       "text": [
        "<matplotlib.figure.Figure at 0x7f4cbc48f828>"
       ]
      }
     ],
     "prompt_number": 27
    },
    {
     "cell_type": "markdown",
     "metadata": {},
     "source": [
      "##Tests\n",
      "###Predictions"
     ]
    },
    {
     "cell_type": "code",
     "collapsed": false,
     "input": [
      "n_tests = 5\n",
      "\n",
      "int2language = dict(zip(range(len(data)), list(data.keys())))\n",
      "\n",
      "def decode_output(output):\n",
      "    ranking = np.flip(np.argsort(output.detach().numpy())[0],axis=0)\n",
      "    scores = np.flip(np.sort(output.detach().numpy())[0],axis=0)\n",
      "    for i in range(3): print('\\t',int2language[ranking[i]],':', scores[i])\n",
      "    return int2language[ranking[0]]\n",
      "\n",
      "for _ in range(n_tests):\n",
      "    language,name = get_random_sample()\n",
      "    print('Name:',name,'\\nLanguage:',language,)\n",
      "    input_tensor,_ = convert_sample(language,name)\n",
      "    hidden = rnn.initHidden()\n",
      "    for i in range(input_tensor.size(0)): output,hidden = rnn(input_tensor[i],hidden)\n",
      "    decode_output(output)\n",
      "    print('\\n')"
     ],
     "language": "python",
     "metadata": {},
     "outputs": [
      {
       "output_type": "stream",
       "stream": "stdout",
       "text": [
        "Name: Cardona \n",
        "Language: Spanish\n",
        "\t Italian : -1.367444\n",
        "\t Spanish : -1.5057318\n",
        "\t Portuguese : -2.0343738\n",
        "\n",
        "\n",
        "Name: Budny \n",
        "Language: Polish\n",
        "\t Scottish : -2.1773906\n",
        "\t Vietnamese : -2.2075982\n",
        "\t English : -2.2475839\n",
        "\n",
        "\n",
        "Name: Cerv \n",
        "Language: Czech\n",
        "\t Dutch : -1.63409\n",
        "\t German : -1.8640921\n",
        "\t Spanish : -2.08919\n",
        "\n",
        "\n",
        "Name: Sander \n",
        "Language: German\n",
        "\t German : -1.6331246\n",
        "\t Arabic : -1.8551915\n",
        "\t French : -2.3646264\n",
        "\n",
        "\n",
        "Name: Trampotova \n",
        "Language: Czech\n",
        "\t Czech : -1.6991456\n",
        "\t Russian : -1.8693304\n",
        "\t Greek : -2.0446892\n",
        "\n",
        "\n"
       ]
      }
     ],
     "prompt_number": 10
    },
    {
     "cell_type": "markdown",
     "metadata": {},
     "source": [
      "###Confusion Matrix"
     ]
    },
    {
     "cell_type": "code",
     "collapsed": false,
     "input": [
      "n_tests = 10000\n",
      "\n",
      "int2language = dict(zip(range(len(data)), list(data.keys())))\n",
      "\n",
      "def decode_output(output):\n",
      "    ranking = np.flip(np.argsort(output.detach().numpy())[0],axis=0)\n",
      "    return int2language[ranking[0]]\n",
      "\n",
      "# initializing dictionary of predictions\n",
      "confusion = np.zeros((len(data.keys()),len(data.keys()))).astype(int)\n",
      "        \n",
      "# filling up dictionary of predictions\n",
      "for _ in range(n_tests):\n",
      "    language,name = get_random_sample()\n",
      "    input_tensor,_ = convert_sample(language,name)\n",
      "    hidden = rnn.initHidden()\n",
      "    for i in range(input_tensor.size(0)): output,hidden = rnn(input_tensor[i],hidden)\n",
      "    prediction = decode_output(output)\n",
      "    confusion[language2int[language]][language2int[prediction]] +=1\n",
      "    \n",
      "print(\"Our data on confusion has been gathered.\")"
     ],
     "language": "python",
     "metadata": {},
     "outputs": [
      {
       "output_type": "stream",
       "stream": "stdout",
       "text": [
        "Our data on confusion has been gathered.\n"
       ]
      }
     ],
     "prompt_number": 11
    },
    {
     "cell_type": "code",
     "collapsed": false,
     "input": [
      "import matplotlib.ticker as ticker\n",
      "\n",
      "row_sums = np.sum(confusion,axis=1)\n",
      "confusion_normalized = confusion/row_sums\n",
      "\n",
      "# Set up plot\n",
      "fig = plt.figure()\n",
      "ax = fig.add_subplot(111)\n",
      "cax = ax.matshow(confusion)\n",
      "fig.colorbar(cax)\n",
      "\n",
      "# Set up axes\n",
      "ax.set_xticklabels([''] + list(data.keys()), rotation=90)\n",
      "ax.set_yticklabels([''] + list(data.keys()))\n",
      "\n",
      "# Force label at every tick\n",
      "ax.xaxis.set_major_locator(ticker.MultipleLocator(1))\n",
      "ax.yaxis.set_major_locator(ticker.MultipleLocator(1))\n",
      "\n",
      "# sphinx_gallery_thumbnail_number = 2\n",
      "plt.show()"
     ],
     "language": "python",
     "metadata": {},
     "outputs": [
      {
       "metadata": {},
       "output_type": "display_data",
       "png": "[encoded data removed]",
       "text": [
        "<matplotlib.figure.Figure at 0x7f4cfdaa49b0>"
       ]
      }
     ],
     "prompt_number": 12
    },
    {
     "cell_type": "markdown",
     "metadata": {},
     "source": [
      "So our classifier is hella good at detecting Greek names, for instance. It's a little harder with English, but then the English were massive colonizers for several centuries, so it makes sense their last names get mistaken with other nationalities. Can't have the best of both worlds. \n",
      "\n",
      "We're going to look quickly at name lengths, because it might be an explanation for why our RNN is so good at finding Greek people (their names tend to be a bit longer than average.) Same thing for Chinese names, they tend to be really short. So let's just look at that really quick."
     ]
    },
    {
     "cell_type": "code",
     "collapsed": false,
     "input": [
      "name_lengths = dict()\n",
      "for language,names in data.items(): \n",
      "    name_lengths[language] = {'average': np.mean([len(name) for name in names]),\n",
      "                              'min': min([len(name) for name in names]),\n",
      "                              'max': max([len(name) for name in names])}\n",
      "\n",
      "x = list(name_lengths.keys())\n",
      "ymin = np.array([name_lengths[language]['min'] for language in name_lengths])\n",
      "yavg = np.array([name_lengths[language]['average'] for language in name_lengths])\n",
      "ymax = np.array([name_lengths[language]['max'] for language in name_lengths])\n",
      "\n",
      "#p1 = plt.bar(x,ymin,color='mediumvioletred',alpha=.9)\n",
      "p2 = plt.scatter(x,yavg,color='mediumvioletred',alpha=.6,label='average')\n",
      "p3 = plt.bar(x,ymax-ymin,bottom=ymin,color='mediumvioletred',alpha=.3,label='interval')\n",
      "\n",
      "plt.title(\"Average Name Length for each Language\")\n",
      "plt.xlabel('language')\n",
      "plt.ylabel('average name length')\n",
      "plt.xticks(rotation='vertical')\n",
      "plt.ylim(ymin=0)\n",
      "plt.legend()\n",
      "plt.show()"
     ],
     "language": "python",
     "metadata": {},
     "outputs": [
      {
       "metadata": {},
       "output_type": "display_data",
       "png": "[encoded data removed]",
       "text": [
        "<matplotlib.figure.Figure at 0x7f4cbff66668>"
       ]
      }
     ],
     "prompt_number": 45
    },
    {
     "cell_type": "markdown",
     "metadata": {},
     "source": [
      "So yeah, we can see just in those distributions what languages are more or less likely to get mixed up. For instance, Chinese, Korean, and Vietnamese have similar distributions, and are unlikely to be mistaken for Russian or Greek.\n",
      "So that's one explanation for our confusion matrix.\n",
      "If we wanted to see more, we could go into letter distributions (in n-grams), but there's a lot of things to do in life, so let's stop here for today. "
     ]
    }
   ],
   "metadata": {}
  }
 ]
}